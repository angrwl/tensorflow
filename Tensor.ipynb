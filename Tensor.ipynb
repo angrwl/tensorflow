{
  "cells": [
    {
      "metadata": {
        "trusted": true
      },
      "cell_type": "code",
      "source": "import tensorflow as tf\nimport keras \n\n\n'''CONSTANT'''\n# Here you just put the values/list/matrix/tensor in the first entry of tf.constant and it just does one calculation\n\n\nnode1 = tf.constant(3.0,'float32')\nnode2 = tf.constant(4.0)\n\nprint(node1,node2)   #this only prints the module details\n\n# Initialize Session and run `result`\nsess = tf.Session()\nprint(sess.run([node1,node2]))\nsess.close()\n\n",
      "execution_count": 2,
      "outputs": [
        {
          "output_type": "stream",
          "text": "Tensor(\"Const:0\", shape=(), dtype=float32) Tensor(\"Const_1:0\", shape=(), dtype=float32)\n[3.0, 4.0]\n",
          "name": "stdout"
        },
        {
          "output_type": "stream",
          "text": "Using TensorFlow backend.\n",
          "name": "stderr"
        }
      ]
    },
    {
      "metadata": {
        "trusted": true
      },
      "cell_type": "code",
      "source": "'''This is a better way to run the code as it automatically the session after output is satisfied'''\n\nwith tf.Session() as sess:\n  output = sess.run([node1,node2])\n  print(output)\n        ",
      "execution_count": 3,
      "outputs": [
        {
          "output_type": "stream",
          "text": "[3.0, 4.0]\n",
          "name": "stdout"
        }
      ]
    },
    {
      "metadata": {
        "trusted": true
      },
      "cell_type": "code",
      "source": "'''Example 2'''\n\na = tf.constant(5.0)\nb = tf.constant(6.0)\nc = a*b\n\nwith tf.Session() as sess:\n    print(sess.run(c))\n    \nFile_Writer = tf.summary.FileWriter('graph',sess.graph)    ",
      "execution_count": 5,
      "outputs": [
        {
          "output_type": "stream",
          "text": "30.0\n",
          "name": "stdout"
        }
      ]
    },
    {
      "metadata": {
        "trusted": true
      },
      "cell_type": "code",
      "source": "'''PLACE HOLDER'''\n\n#Place Holder is a follow on from constant which is kind of like a variable \n# BUT you won't be able to change numbers after each iteration\n\na = tf.placeholder('float32')\nb = tf.placeholder('float32')\n\nadd_noder = a+b \n\nwith tf.Session() as sess:\n    print(sess.run(add_noder,{a:[1,2],b:[2,3]}))\n    \n    \n#As you can see, I am only running the code for a=[1,2] and b=[2,3] but it can not iterate ",
      "execution_count": 27,
      "outputs": [
        {
          "output_type": "stream",
          "text": "[3. 5.]\n",
          "name": "stdout"
        }
      ]
    },
    {
      "metadata": {
        "trusted": true
      },
      "cell_type": "code",
      "source": "'''Variable'''\n\n# if i want my data to become trainable, I need parameters which change after every iteration\n# you use variables to HOLD and UPDATE the parameters (each iteration)\n\nimport tensorflow as tf\n\n#Model Parameters (i.e. we need to change the value of these after each iteration thus assign it as a variable not placeholder)\nW = tf.Variable([0.3],'float32')\nb = tf.Variable([-0.3],'float32')\n\n#inputs and outputs \nx = tf.placeholder('float32')    #input\ny = tf.placeholder('float32')    #desired output (i.e. training data)    \n\ny_hat = W*x+b    #approximating with weights \nsquared_delta = tf.square(y-y_hat)\nloss = tf.reduce_sum(squared_delta)\n\n#initialising the Variables which needs to be done each time\ninit = tf.global_variables_initializer()\nsess = tf.Session()\nsess.run(init)\n\nprint(sess.run(loss,{x:[1,2,3,4],y:[0,-1,-2,-3]}))\n\nprint('The loss I get: {}'.format(sess.run(loss,{x:[1,2,3,4],y:[0,-1,-2,-3]})))",
      "execution_count": 34,
      "outputs": [
        {
          "output_type": "stream",
          "text": "23.66\nThe loss I get: 23.65999984741211\n",
          "name": "stdout"
        }
      ]
    },
    {
      "metadata": {},
      "cell_type": "markdown",
      "source": "Here I will be describing the above code: \n\n$W$ = weights which is a variable and I have taken to be just $0.3$ (but you have to express it as $[0.3]$\n\n$b$ = bias which is a variable and I have taken to be just $-0.3$ (but you have to express it as $[-0.3]$\n\n$x$ and $y$ are inputs and *desired* output respectively and I have taken them as placeholder because I do not have to change them in each iteration \n\n$$y_{hat} = Wx+b \\quad \\text{and} \\quad loss = \\Sigma_i (y^{i}-y^{i}_{hat})^2$$\n\nwhere $\\delta^2 = (y^{i}-y^{i}_{hat})^2$\n\n**Everytime you need to initialize the global variables so some steps are mandatory** \n\nFinally I chose $x = [1,2,3,4]$ and $y = [0,-1,-2,-3]$ as my numbers for the placeholder to get the desired result of 23.66"
    },
    {
      "metadata": {},
      "cell_type": "markdown",
      "source": "### Steepest Gradient Descent\n\nlet $\\quad J(W_i) = \\frac{1}{2}\\Sigma_i (y^{i}-y^{i}_{hat})^2 = \\Sigma_i (y^{i}-(W_ix_i+b))^2$, \n$$\\Delta W_i = -\\eta \\frac{\\partial J}{\\partial W_i} \\implies -\\eta \\Sigma_i (y^{i}-y^{i}_{hat})(-x_i)$$\n$$ W = W + \\Delta W $$ \n\n\n"
    },
    {
      "metadata": {
        "trusted": true
      },
      "cell_type": "code",
      "source": "'''Implementing Steepest Gradient Descent Algorithm'''\n\nW = tf.Variable([0.3],'float32')\nb = tf.Variable([-0.3],'float32')\n\n#inputs and outputs \nx = tf.placeholder('float32')    #input\ny = tf.placeholder('float32')    #desired output (i.e. training data)    \n\ny_hat = W*x+b    #approximating with weights \n\n#loss\nsquared_delta = tf.square(y-y_hat)\nloss = tf.reduce_sum(squared_delta)\n\n#optimize\noptimizer = tf.train.GradientDescentOptimizer(0.01)    #this represents my stepsize (eta = 0.01) which I keep constant \ntrain = optimizer.minimize(loss)\n\n#initialising the Variables which needs to be done each time\ninit = tf.global_variables_initializer()\nsess = tf.Session()\nsess.run(init)\n\nfor i in range(1000):\n    sess.run(train,{x:[1,2,3,4],y:[0,-1,-2,-3]})\n\nprint(sess.run([W,b]))\n    \n#print(sess.run(loss,{x:[1,2,3,4],y:[0,-1,-2,-3]}))\n\n",
      "execution_count": 48,
      "outputs": [
        {
          "output_type": "stream",
          "text": "[array([-0.9999969], dtype=float32), array([0.9999908], dtype=float32)]\n",
          "name": "stdout"
        }
      ]
    },
    {
      "metadata": {
        "trusted": true
      },
      "cell_type": "code",
      "source": "",
      "execution_count": 45,
      "outputs": []
    },
    {
      "metadata": {
        "trusted": true
      },
      "cell_type": "code",
      "source": "",
      "execution_count": null,
      "outputs": []
    },
    {
      "metadata": {
        "trusted": true
      },
      "cell_type": "code",
      "source": "",
      "execution_count": null,
      "outputs": []
    }
  ],
  "metadata": {
    "kernelspec": {
      "name": "python36",
      "display_name": "Python 3.6",
      "language": "python"
    },
    "language_info": {
      "mimetype": "text/x-python",
      "nbconvert_exporter": "python",
      "name": "python",
      "pygments_lexer": "ipython3",
      "version": "3.6.6",
      "file_extension": ".py",
      "codemirror_mode": {
        "version": 3,
        "name": "ipython"
      }
    }
  },
  "nbformat": 4,
  "nbformat_minor": 2
}